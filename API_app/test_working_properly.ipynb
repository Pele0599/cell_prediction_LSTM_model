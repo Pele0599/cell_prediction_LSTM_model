{
 "cells": [
  {
   "cell_type": "code",
   "execution_count": 2,
   "id": "6904a6ee",
   "metadata": {},
   "outputs": [],
   "source": [
    "import os\n",
    "import sys\n",
    "sys.path.insert(0,'..')\n",
    "import argparse\n",
    "import configparser\n",
    "import pickle as pkl\n",
    "import sys\n",
    "import warnings\n",
    "from argparse import ArgumentParser\n",
    "from copy import deepcopy\n",
    "from os import environ\n",
    "from os.path import join as oj\n",
    "import numpy as np\n",
    "import torch\n",
    "import torch.utils.data\n",
    "from sklearn.preprocessing import MinMaxScaler, StandardScaler\n",
    "from torch import optim\n",
    "from torch.utils.data import DataLoader, TensorDataset\n",
    "import training.my_eval as my_eval\n",
    "import training.data_loader as dl \n",
    "from training.loss_functions import nll_loss\n",
    "from utils import create_json_status, initialize_model\n",
    "from config import data_config"
   ]
  },
  {
   "cell_type": "code",
   "execution_count": 3,
   "id": "21a9b4cc",
   "metadata": {},
   "outputs": [],
   "source": [
    "params = {\n",
    "            'start': 10,\n",
    "            'stop' : 30,\n",
    "            'batch_size' : 128,\n",
    "            'num_epochs' : 3000,\n",
    "            'sequence_length' : 100,\n",
    "            'seed' : 42,\n",
    "            'hidden_size_lstm' : -1,\n",
    "            'hidden_size' : 32,\n",
    "            'use_augment' : 1,\n",
    "            'train_percentage' : 0.5,\n",
    "            'use_covariates' : True,\n",
    "            'use_cycle_counter' : 1,\n",
    "        }"
   ]
  },
  {
   "cell_type": "code",
   "execution_count": 4,
   "id": "8b48a461",
   "metadata": {},
   "outputs": [],
   "source": [
    "data_path = data_config[\"abs_data_path\"]\n",
    "data_dict = dl.load_data_all_channels(data_path)\n",
    "x, y, c, var = dl.get_capacity_input(\n",
    "        data_dict,\n",
    "        start_cycle=params['start'],\n",
    "        stop_cycle=params['sequence_length']\n",
    "    )"
   ]
  },
  {
   "cell_type": "code",
   "execution_count": 7,
   "id": "eac6d9c6",
   "metadata": {},
   "outputs": [
    {
     "name": "stdout",
     "output_type": "stream",
     "text": [
      "dict_keys(['Ic', 'Id', 'Qc', 'Qd', 'Vc', 'Vd', 'td', 'tc'])\n"
     ]
    },
    {
     "data": {
      "text/plain": [
       "[<matplotlib.lines.Line2D at 0x7faecdee8a30>]"
      ]
     },
     "execution_count": 7,
     "metadata": {},
     "output_type": "execute_result"
    },
    {
     "data": {
      "image/png": "[encoded data removed]",
      "text/plain": [
       "<Figure size 432x288 with 1 Axes>"
      ]
     },
     "metadata": {
      "needs_background": "light"
     },
     "output_type": "display_data"
    }
   ],
   "source": [
    "import matplotlib.pyplot as plt \n",
    "cycle_i = str(100)\n",
    "print(data_dict['cell10']['cycles'][cycle_i].keys())\n",
    "Qd = data_dict['cell10']['cycles'][cycle_i]['Qd']\n",
    "Qc = data_dict['cell10']['cycles'][cycle_i]['Qc']\n",
    "Ic = data_dict['cell10']['cycles'][cycle_i]['Vc']\n",
    "Id = data_dict['cell10']['cycles'][cycle_i]['Vd']\n",
    "plt.plot(Ic)\n",
    "plt.plot(np.arange(len(Ic),len(Ic)+len(Id)), Id)\n",
    "\n",
    "plt.plot(Qc / 3000)\n",
    "plt.plot(np.arange(len(Ic),len(Ic)+len(Id)), Qd/3000)\n"
   ]
  },
  {
   "cell_type": "code",
   "execution_count": null,
   "id": "ad372301",
   "metadata": {},
   "outputs": [],
   "source": []
  },
  {
   "cell_type": "code",
   "execution_count": null,
   "id": "893b7189",
   "metadata": {},
   "outputs": [],
   "source": []
  }
 ],
 "metadata": {
  "kernelspec": {
   "display_name": "Python 3 (ipykernel)",
   "language": "python",
   "name": "python3"
  },
  "language_info": {
   "codemirror_mode": {
    "name": "ipython",
    "version": 3
   },
   "file_extension": ".py",
   "mimetype": "text/x-python",
   "name": "python",
   "nbconvert_exporter": "python",
   "pygments_lexer": "ipython3",
   "version": "3.9.7"
  }
 },
 "nbformat": 4,
 "nbformat_minor": 5
}
