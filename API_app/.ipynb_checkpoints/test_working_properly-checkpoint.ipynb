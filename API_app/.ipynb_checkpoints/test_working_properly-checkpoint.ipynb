{
 "cells": [
  {
   "cell_type": "code",
   "execution_count": 3,
   "id": "b71d8ca6",
   "metadata": {},
   "outputs": [],
   "source": [
    "import os\n",
    "import sys\n",
    "sys.path.insert(0,'..')\n",
    "import argparse\n",
    "import configparser\n",
    "import pickle as pkl\n",
    "import sys\n",
    "import warnings\n",
    "from argparse import ArgumentParser\n",
    "from copy import deepcopy\n",
    "from os import environ\n",
    "from os.path import join as oj\n",
    "import numpy as np\n",
    "import torch\n",
    "import torch.utils.data\n",
    "from sklearn.preprocessing import MinMaxScaler, StandardScaler\n",
    "from torch import optim\n",
    "from torch.utils.data import DataLoader, TensorDataset\n",
    "import training.my_eval as my_eval\n",
    "import training.data_loader as dl \n",
    "from training.loss_functions import nll_loss\n",
    "from utils import create_json_status, initialize_model\n",
    "from config import data_config"
   ]
  },
  {
   "cell_type": "code",
   "execution_count": 5,
   "id": "deaeb1c2",
   "metadata": {},
   "outputs": [
    {
     "ename": "SyntaxError",
     "evalue": "invalid syntax (1432095102.py, line 13)",
     "output_type": "error",
     "traceback": [
      "\u001b[0;36m  File \u001b[0;32m\"/var/folders/90/1xp7rskx2kj1nbhtqfvty1nr0000gn/T/ipykernel_37962/1432095102.py\"\u001b[0;36m, line \u001b[0;32m13\u001b[0m\n\u001b[0;31m    'use_cycle_counter' : 1,\u001b[0m\n\u001b[0m    ^\u001b[0m\n\u001b[0;31mSyntaxError\u001b[0m\u001b[0;31m:\u001b[0m invalid syntax\n"
     ]
    }
   ],
   "source": [
    "params = {\n",
    "            'start': 10,\n",
    "            'stop' : 30,\n",
    "            'batch_size' : 128,\n",
    "            'num_epochs' : 3000,\n",
    "            'sequence_length' : 100,\n",
    "            'seed' : 42,\n",
    "            'hidden_size_lstm' : -1,\n",
    "            'hidden_size' : 32,\n",
    "            'use_augment' : 1,\n",
    "            'train_percentage' : 0.5,\n",
    "            'use_covariates' : True,\n",
    "            'use_cycle_counter' : 1,\n",
    "        }"
   ]
  },
  {
   "cell_type": "code",
   "execution_count": 4,
   "id": "0bcbb5bf",
   "metadata": {},
   "outputs": [
    {
     "ename": "NameError",
     "evalue": "name 'params' is not defined",
     "output_type": "error",
     "traceback": [
      "\u001b[0;31m---------------------------------------------------------------------------\u001b[0m",
      "\u001b[0;31mNameError\u001b[0m                                 Traceback (most recent call last)",
      "\u001b[0;32m/var/folders/90/1xp7rskx2kj1nbhtqfvty1nr0000gn/T/ipykernel_37962/1690424183.py\u001b[0m in \u001b[0;36m<module>\u001b[0;34m\u001b[0m\n\u001b[1;32m      3\u001b[0m x, y, c, var = dl.get_capacity_input(\n\u001b[1;32m      4\u001b[0m         \u001b[0mdata_dict\u001b[0m\u001b[0;34m,\u001b[0m\u001b[0;34m\u001b[0m\u001b[0;34m\u001b[0m\u001b[0m\n\u001b[0;32m----> 5\u001b[0;31m         \u001b[0mstart_cycle\u001b[0m\u001b[0;34m=\u001b[0m\u001b[0mparams\u001b[0m\u001b[0;34m[\u001b[0m\u001b[0;34m'start'\u001b[0m\u001b[0;34m]\u001b[0m\u001b[0;34m,\u001b[0m\u001b[0;34m\u001b[0m\u001b[0;34m\u001b[0m\u001b[0m\n\u001b[0m\u001b[1;32m      6\u001b[0m         \u001b[0mstop_cycle\u001b[0m\u001b[0;34m=\u001b[0m\u001b[0mparams\u001b[0m\u001b[0;34m[\u001b[0m\u001b[0;34m'sequence_length'\u001b[0m\u001b[0;34m]\u001b[0m\u001b[0;34m\u001b[0m\u001b[0;34m\u001b[0m\u001b[0m\n\u001b[1;32m      7\u001b[0m     )\n",
      "\u001b[0;31mNameError\u001b[0m: name 'params' is not defined"
     ]
    }
   ],
   "source": [
    "data_path = data_config[\"abs_data_path\"]\n",
    "data_dict = dl.load_data_all_channels(data_path)\n",
    "x, y, c, var = dl.get_capacity_input(\n",
    "        data_dict,\n",
    "        start_cycle=params['start'],\n",
    "        stop_cycle=params['sequence_length']\n",
    "    )\n"
   ]
  },
  {
   "cell_type": "code",
   "execution_count": null,
   "id": "16362cb5",
   "metadata": {},
   "outputs": [],
   "source": []
  }
 ],
 "metadata": {
  "kernelspec": {
   "display_name": "Python 3.9.5 64-bit",
   "language": "python",
   "name": "python3"
  },
  "language_info": {
   "codemirror_mode": {
    "name": "ipython",
    "version": 3
   },
   "file_extension": ".py",
   "mimetype": "text/x-python",
   "name": "python",
   "nbconvert_exporter": "python",
   "pygments_lexer": "ipython3",
   "version": "3.9.5"
  },
  "vscode": {
   "interpreter": {
    "hash": "aee8b7b246df8f9039afb4144a1f6fd8d2ca17a180786b69acc140d282b71a49"
   }
  }
 },
 "nbformat": 4,
 "nbformat_minor": 5
}
