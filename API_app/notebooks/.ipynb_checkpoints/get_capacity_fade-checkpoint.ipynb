{
 "cells": [
  {
   "cell_type": "code",
   "execution_count": 1,
   "metadata": {},
   "outputs": [],
   "source": [
    "# Create a script here which takes as input the fir n cycles from a battery\n",
    "# And then predicts the degredation curve "
   ]
  },
  {
   "cell_type": "code",
   "execution_count": 7,
   "metadata": {},
   "outputs": [
    {
     "name": "stdout",
     "output_type": "stream",
     "text": [
      "{'Model_parameters': {'start': 3, 'stop': 10, 'batch_size': 128, 'num_epochs': 3000, 'sequence_length': 10, 'seed': 42, 'hidden_size_lstm': -1, 'hidden_size': 32, 'use_augment': 1, 'train_percentage': 0.5, 'use_covariates': True, 'use_cycle_counter': 1}, 'Train_set_1': 'celltest.hdf5', 'Train_set_2': 'celltest.hdf5', 'Train_set_3': 'celltest.hdf5'}\n"
     ]
    }
   ],
   "source": [
    "import os\n",
    "import sys\n",
    "sys.path.insert(0,'..')\n",
    "import pickle as pkl\n",
    "import sys\n",
    "from copy import deepcopy\n",
    "from os import environ\n",
    "from os.path import join as oj\n",
    "import numpy as np\n",
    "import torch\n",
    "import torch.utils.data\n",
    "from sklearn.preprocessing import MinMaxScaler, StandardScaler\n",
    "from torch import optim\n",
    "from torch.utils.data import DataLoader, TensorDataset\n",
    "import training.my_eval as my_eval\n",
    "import training.data_loader as dl\n",
    "from training.loss_functions import nll_loss\n",
    "from training.models import *\n",
    "from utils import *\n",
    "import pandas as pd "
   ]
  },
  {
   "cell_type": "code",
   "execution_count": 3,
   "metadata": {},
   "outputs": [],
   "source": [
    "results_path = \"/Users/paolovincenzofreieslebendeblasio/battery-life-prediction/\"\n",
    "results_filename = \"14cells300CyclesData-HelgeSteinGroup.hdf5\"\n",
    "data_path = results_path + results_filename\n",
    "\n",
    "#Absolute path to where the data is stored \n",
    "data_dict = dl.load_data_all_channels(data_path)\n",
    "x, y, c, var = dl.get_capacity_input(\n",
    "    data_dict,\n",
    "    start_cycle=10,\n",
    "    stop_cycle=100, \n",
    ")\n",
    "\n",
    "qc_variance_scaler = StandardScaler().fit(var)\n",
    "var = qc_variance_scaler.transform(var)\n",
    "augmented_data = np.hstack([c, var])\n",
    "#x = dl.scale_x(x, y)"
   ]
  },
  {
   "cell_type": "code",
   "execution_count": 8,
   "metadata": {},
   "outputs": [],
   "source": [
    "# We load the initial data, then feed it into the model so that it can \n",
    "# Predict the degredation curves for the cells \n",
    "results_path = '/Users/paolovincenzofreieslebendeblasio/Cell_Lifetime_prediction/LaurasModels/pele.pkl'\n",
    "results = pd.Series(pkl.load(open(results_path, \"rb\")))\n",
    "json_path = \"/Users/paolovincenzofreieslebendeblasio/Cell_Lifetime_prediction/LaurasModels/testmodel_status_test_model_2.json\"\n",
    "hyper_params = get_model_hyperparams_from_json(json_path)\n",
    "\n"
   ]
  },
  {
   "cell_type": "code",
   "execution_count": 9,
   "metadata": {},
   "outputs": [
    {
     "ename": "KeyError",
     "evalue": "'hidden_size'",
     "output_type": "error",
     "traceback": [
      "\u001b[0;31m---------------------------------------------------------------------------\u001b[0m",
      "\u001b[0;31mKeyError\u001b[0m                                  Traceback (most recent call last)",
      "\u001b[0;32m/var/folders/90/1xp7rskx2kj1nbhtqfvty1nr0000gn/T/ipykernel_46346/74666912.py\u001b[0m in \u001b[0;36m<module>\u001b[0;34m\u001b[0m\n\u001b[1;32m     10\u001b[0m my_models = models.Uncertain_LSTM(1, \n\u001b[1;32m     11\u001b[0m                             \u001b[0;36m7\u001b[0m\u001b[0;34m,\u001b[0m\u001b[0;34m\u001b[0m\u001b[0;34m\u001b[0m\u001b[0m\n\u001b[0;32m---> 12\u001b[0;31m                             \u001b[0mnum_hidden\u001b[0m \u001b[0;34m=\u001b[0m \u001b[0mhyper_params\u001b[0m\u001b[0;34m[\u001b[0m\u001b[0;34m\"hidden_size\"\u001b[0m\u001b[0;34m]\u001b[0m\u001b[0;34m,\u001b[0m\u001b[0;34m\u001b[0m\u001b[0;34m\u001b[0m\u001b[0m\n\u001b[0m\u001b[1;32m     13\u001b[0m                             \u001b[0mnum_hidden_lstm\u001b[0m \u001b[0;34m=\u001b[0m \u001b[0mhyper_params\u001b[0m\u001b[0;34m[\u001b[0m\u001b[0;34m\"hidden_size_lstm\"\u001b[0m\u001b[0;34m]\u001b[0m\u001b[0;34m,\u001b[0m\u001b[0;34m\u001b[0m\u001b[0;34m\u001b[0m\u001b[0m\n\u001b[1;32m     14\u001b[0m                             \u001b[0mseq_len\u001b[0m\u001b[0;34m=\u001b[0m \u001b[0;36m100\u001b[0m\u001b[0;34m,\u001b[0m\u001b[0;34m\u001b[0m\u001b[0;34m\u001b[0m\u001b[0m\n",
      "\u001b[0;31mKeyError\u001b[0m: 'hidden_size'"
     ]
    }
   ],
   "source": [
    "#Load models here \n",
    "import training.models as models\n",
    "model_path  = '/Users/paolovincenzofreieslebendeblasio/Cell_Lifetime_prediction/LaurasModels'\n",
    "\n",
    "input_dim = 1   # Number of input features (e.g. discharge capacity)\n",
    "num_augment = 7  # three  values of charging schedule (avg and last) plus the variance\n",
    "\n",
    "device = torch.device(\"cpu\")\n",
    "\n",
    "my_models = models.Uncertain_LSTM(1, \n",
    "                            7, \n",
    "                            num_hidden = hyper_params['Model_parameters'][\"hidden_size\"], \n",
    "                            num_hidden_lstm = hyper_params['Model_parameters'][\"hidden_size_lstm\"], \n",
    "                            seq_len= 100, \n",
    "                            n_layers =2, \n",
    "                            dropout =.0).to(device) \n",
    "\n",
    "my_models.load_state_dict(torch.load(oj(model_path,'pele'+\".pt\"),\n",
    "map_location=torch.device('cpu')))\n",
    "model = my_models.to(device)\n",
    "\n",
    "capacity_output_scaler = MinMaxScaler((-1, 1), clip=False).fit(\n",
    "    np.maximum(np.minimum([y[0:1]], 180), 180*0.8)\n",
    ")"
   ]
  },
  {
   "cell_type": "code",
   "execution_count": null,
   "metadata": {},
   "outputs": [],
   "source": [
    "max_val = 180  # nominal capacity for the cells which you are testing\n",
    "end_of_life_val = (0.8 * 180)  # batteries are considered dead after 80%. This should be .8*1.1\n",
    "\n",
    "x = np.minimum(x, max_val)\n",
    "x = np.maximum(x, end_of_life_val)\n",
    "\n",
    "x = (x - end_of_life_val) / (max_val - end_of_life_val)\n",
    "print(x)"
   ]
  },
  {
   "cell_type": "code",
   "execution_count": null,
   "metadata": {},
   "outputs": [],
   "source": [
    " #Scaling the QC, and cycle life \n",
    "\n",
    "#x_preprocessed = dl.remove_outliers(x_scaled,y) #\n",
    "x_preprocessed = x\n",
    "\n",
    "# for seq_length in [40,]:\n",
    "max_steps = 1000 #Maximum number of steps we want to predict \n",
    "num_models = 1 #Number of models used to predict \n",
    "num_samples = 20 #Number of samples for the gaussian distribution\n",
    "#used_idxs = test_idxs Used idxs, indicates which batteries which we use for testing \n",
    "used_idxs = [1]\n",
    "mean_val = []\n",
    "cycle_dict = {}\n",
    "for seq_length in [100,]:  \n",
    "    test_seq_list = []\n",
    "    test_life_pred_list = []\n",
    "    test_seq_std_list = []\n",
    "    all_outputs_arr = np.empty( (1,max_steps,1, num_samples,))\n",
    "    \n",
    "    supp_val_data = np.hstack([c[used_idxs, :3], var[[used_idxs]],np.ones((1,1))*np.log(seq_length) ])\n",
    "    \n",
    "    #Take the scaled values for y, and the capacitance as a function of time \n",
    "    test_seq = x_preprocessed[[0]][:, :seq_length,None  ].copy()\n",
    "    extended_seq = np.swapaxes(np.reshape(np.repeat(np.swapaxes(test_seq, 0,-1)[:,:,:,None],\n",
    "                                                    num_samples, axis =-1), (1, seq_length, -1)),0,-1)\n",
    "    \n",
    "    extended_supp_data = np.swapaxes(np.reshape(np.repeat(np.swapaxes(supp_val_data, 0,-1)[:,:,None],\n",
    "                                                          num_samples, axis =-1), (supp_val_data.shape[1], -1)),0,-1)\n",
    "\n",
    "    with torch.no_grad():\n",
    "        while((np.all(extended_seq[:,-1] < 1e-3) == False ) *(extended_seq.shape[1] < max_steps)):\n",
    "\n",
    "            supp_val_data_torch = torch.from_numpy(extended_supp_data).to(device).float()\n",
    "\n",
    "            test_seq_torch = torch.from_numpy(extended_seq[:, - seq_length:]).to(device).float()\n",
    "            print(len(extended_seq[1]),'asd')\n",
    "            model.reset_hidden_state()        \n",
    "            (state_mean_mean, state_var) = model(test_seq_torch, supp_val_data_torch)\n",
    "            \n",
    "            #Create a vector which creates the gaussian distribution\n",
    "            #The number of samples, corresponds to how well we sample the gaussian space\n",
    "            \n",
    "            if num_samples >1:\n",
    "                state_mean_noisy   = state_mean_mean  +  torch.normal(0, (torch.sqrt(state_var)))   \n",
    "            else:\n",
    "                state_mean_noisy   = state_mean_mean \n",
    "\n",
    "            state_mean_transformed = torch.from_numpy(capacity_output_scaler.inverse_transform(\n",
    "                state_mean_noisy.cpu().numpy())).to(device)\n",
    "            \n",
    "            #Inversely transforms the predicted capacity into the correct value\n",
    "\n",
    "            mean_val.append(np.mean(state_mean_transformed.cpu().numpy()[0]))\n",
    "            state_mean_transformed[:,0] = state_mean_transformed[:,0]*(test_seq_torch[:, -1, 0 ])\n",
    "\n",
    "            extended_supp_data[:,-1] = np.log(np.exp(extended_supp_data[:,-1])+1)\n",
    "            extended_seq = np.hstack([extended_seq, state_mean_transformed.cpu().numpy()[:, None]])\n",
    "            #We append more and more of the extended seq state\n",
    "    used_steps = extended_seq.shape[1]\n",
    "    reshaped = np.swapaxes(np.reshape(np.swapaxes(extended_seq,0,1),(1,used_steps, -1, num_samples)),0,-2)\n",
    "    all_outputs_arr[:,:used_steps,0,:] = reshaped[:,:,0]\n",
    "\n",
    "all_outputs_arr = np.reshape(np.transpose(all_outputs_arr, (0,2,3, 1)), (len(used_idxs), -1, max_steps))\n",
    "cycle_dict[seq_length] = np.copy(all_outputs_arr)\n"
   ]
  },
  {
   "cell_type": "code",
   "execution_count": 18,
   "metadata": {},
   "outputs": [
    {
     "data": {
      "text/plain": [
       "[<matplotlib.lines.Line2D at 0x7fbfe05070a0>]"
      ]
     },
     "execution_count": 18,
     "metadata": {},
     "output_type": "execute_result"
    },
    {
     "data": {
      "image/png": "[encoded data removed]",
      "text/plain": [
       "<Figure size 432x288 with 1 Axes>"
      ]
     },
     "metadata": {
      "needs_background": "light"
     },
     "output_type": "display_data"
    }
   ],
   "source": [
    "import matplotlib.pyplot as plt \n",
    "\n",
    "plt.plot(extended_seq[1][0:101])\n"
   ]
  },
  {
   "cell_type": "code",
   "execution_count": null,
   "metadata": {},
   "outputs": [],
   "source": []
  },
  {
   "cell_type": "code",
   "execution_count": null,
   "metadata": {},
   "outputs": [],
   "source": []
  }
 ],
 "metadata": {
  "kernelspec": {
   "display_name": "Python 3 (ipykernel)",
   "language": "python",
   "name": "python3"
  },
  "language_info": {
   "codemirror_mode": {
    "name": "ipython",
    "version": 3
   },
   "file_extension": ".py",
   "mimetype": "text/x-python",
   "name": "python",
   "nbconvert_exporter": "python",
   "pygments_lexer": "ipython3",
   "version": "3.9.7"
  },
  "vscode": {
   "interpreter": {
    "hash": "aee8b7b246df8f9039afb4144a1f6fd8d2ca17a180786b69acc140d282b71a49"
   }
  }
 },
 "nbformat": 4,
 "nbformat_minor": 2
}
