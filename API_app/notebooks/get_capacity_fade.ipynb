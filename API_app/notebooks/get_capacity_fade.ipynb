{
 "cells": [
  {
   "cell_type": "code",
   "execution_count": 1,
   "metadata": {},
   "outputs": [],
   "source": [
    "# Create a script here which takes as input the fir n cycles from a battery\n",
    "# And then predicts the degredation curve "
   ]
  },
  {
   "cell_type": "code",
   "execution_count": 2,
   "metadata": {},
   "outputs": [
    {
     "ename": "ModuleNotFoundError",
     "evalue": "No module named 'sklearn'",
     "output_type": "error",
     "traceback": [
      "\u001b[0;31m---------------------------------------------------------------------------\u001b[0m",
      "\u001b[0;31mModuleNotFoundError\u001b[0m                       Traceback (most recent call last)",
      "\u001b[1;32m/Users/paolovincenzofreieslebendeblasio/Cell_Lifetime_prediction/API_app/notebooks/get_capacity_fade.ipynb Cell 2'\u001b[0m in \u001b[0;36m<cell line: 12>\u001b[0;34m()\u001b[0m\n\u001b[1;32m     <a href='vscode-notebook-cell:/Users/paolovincenzofreieslebendeblasio/Cell_Lifetime_prediction/API_app/notebooks/get_capacity_fade.ipynb#ch0000001?line=9'>10</a>\u001b[0m \u001b[39mimport\u001b[39;00m \u001b[39mtorch\u001b[39;00m\n\u001b[1;32m     <a href='vscode-notebook-cell:/Users/paolovincenzofreieslebendeblasio/Cell_Lifetime_prediction/API_app/notebooks/get_capacity_fade.ipynb#ch0000001?line=10'>11</a>\u001b[0m \u001b[39mimport\u001b[39;00m \u001b[39mtorch\u001b[39;00m\u001b[39m.\u001b[39;00m\u001b[39mutils\u001b[39;00m\u001b[39m.\u001b[39;00m\u001b[39mdata\u001b[39;00m\n\u001b[0;32m---> <a href='vscode-notebook-cell:/Users/paolovincenzofreieslebendeblasio/Cell_Lifetime_prediction/API_app/notebooks/get_capacity_fade.ipynb#ch0000001?line=11'>12</a>\u001b[0m \u001b[39mfrom\u001b[39;00m \u001b[39msklearn\u001b[39;00m\u001b[39m.\u001b[39;00m\u001b[39mpreprocessing\u001b[39;00m \u001b[39mimport\u001b[39;00m MinMaxScaler, StandardScaler\n\u001b[1;32m     <a href='vscode-notebook-cell:/Users/paolovincenzofreieslebendeblasio/Cell_Lifetime_prediction/API_app/notebooks/get_capacity_fade.ipynb#ch0000001?line=12'>13</a>\u001b[0m \u001b[39mfrom\u001b[39;00m \u001b[39mtorch\u001b[39;00m \u001b[39mimport\u001b[39;00m optim\n\u001b[1;32m     <a href='vscode-notebook-cell:/Users/paolovincenzofreieslebendeblasio/Cell_Lifetime_prediction/API_app/notebooks/get_capacity_fade.ipynb#ch0000001?line=13'>14</a>\u001b[0m \u001b[39mfrom\u001b[39;00m \u001b[39mtorch\u001b[39;00m\u001b[39m.\u001b[39;00m\u001b[39mutils\u001b[39;00m\u001b[39m.\u001b[39;00m\u001b[39mdata\u001b[39;00m \u001b[39mimport\u001b[39;00m DataLoader, TensorDataset\n",
      "\u001b[0;31mModuleNotFoundError\u001b[0m: No module named 'sklearn'"
     ]
    }
   ],
   "source": [
    "import os\n",
    "import sys\n",
    "sys.path.insert(0,'..')\n",
    "import pickle as pkl\n",
    "import sys\n",
    "from copy import deepcopy\n",
    "from os import environ\n",
    "from os.path import join as oj\n",
    "import numpy as np\n",
    "import torch\n",
    "import torch.utils.data\n",
    "from sklearn.preprocessing import MinMaxScaler, StandardScaler\n",
    "from torch import optim\n",
    "from torch.utils.data import DataLoader, TensorDataset\n",
    "import training.my_eval as my_eval\n",
    "import training.data_loader as dl \n",
    "from training.loss_functions import nll_loss\n",
    "from training.models import *"
   ]
  },
  {
   "cell_type": "code",
   "execution_count": null,
   "metadata": {},
   "outputs": [
    {
     "ename": "NameError",
     "evalue": "name 'config' is not defined",
     "output_type": "error",
     "traceback": [
      "\u001b[0;31m---------------------------------------------------------------------------\u001b[0m",
      "\u001b[0;31mNameError\u001b[0m                                 Traceback (most recent call last)",
      "\u001b[1;32m/Users/paolovincenzofreieslebendeblasio/Cell_Lifetime_prediction/API_app/notebooks/get_capacity_fade.ipynb Cell 3'\u001b[0m in \u001b[0;36m<cell line: 2>\u001b[0;34m()\u001b[0m\n\u001b[1;32m      <a href='vscode-notebook-cell:/Users/paolovincenzofreieslebendeblasio/Cell_Lifetime_prediction/API_app/notebooks/get_capacity_fade.ipynb#ch0000002?line=0'>1</a>\u001b[0m model_path  \u001b[39m=\u001b[39m \u001b[39m'\u001b[39m\u001b[39m../models/final_models_nifl\u001b[39m\u001b[39m'\u001b[39m \u001b[39m#Path to models \u001b[39;00m\n\u001b[0;32m----> <a href='vscode-notebook-cell:/Users/paolovincenzofreieslebendeblasio/Cell_Lifetime_prediction/API_app/notebooks/get_capacity_fade.ipynb#ch0000002?line=1'>2</a>\u001b[0m fig_path \u001b[39m=\u001b[39mconfig[\u001b[39m'\u001b[39m\u001b[39mPATHS\u001b[39m\u001b[39m'\u001b[39m][\u001b[39m'\u001b[39m\u001b[39mfigure_path\u001b[39m\u001b[39m'\u001b[39m]\n",
      "\u001b[0;31mNameError\u001b[0m: name 'config' is not defined"
     ]
    }
   ],
   "source": [
    "#Load models here \n",
    "model_path  = '/Users/paolovincenzofreieslebendeblasio/Cell_Lifetime_prediction/LaurasModels'\n",
    "\n",
    "input_dim = 1   # Number of input features (e.g. discharge capacity)\n",
    "num_augment = 7  # three  values of charging schedule (avg and last) plus the variance\n",
    "\n",
    "\n",
    "my_models = models.Uncertain_LSTM(input_dim = 1, \n",
    "                            num_augment = 7, \n",
    "                            num_hidden =  results.hidden_size, \n",
    "                            num_hidden_lstm =  results.hidden_size_lstm, \n",
    "                            seq_len= results.sequence_length, \n",
    "                            n_layers =2, \n",
    "                            dropout =.0).to(device) \n",
    "\n",
    "my_models[i].load_state_dict(torch.load(oj(model_path,file_name+\".pt\"),\n",
    "map_location=torch.device('cpu')))\n",
    "my_models[i] = my_models[i].to(device)"
   ]
  },
  {
   "cell_type": "code",
   "execution_count": 4,
   "metadata": {},
   "outputs": [
    {
     "ename": "NameError",
     "evalue": "name 'dl' is not defined",
     "output_type": "error",
     "traceback": [
      "\u001b[0;31m---------------------------------------------------------------------------\u001b[0m",
      "\u001b[0;31mNameError\u001b[0m                                 Traceback (most recent call last)",
      "\u001b[1;32m/Users/paolovincenzofreieslebendeblasio/Cell_Lifetime_prediction/API_app/notebooks/get_capacity_fade.ipynb Cell 4'\u001b[0m in \u001b[0;36m<cell line: 3>\u001b[0;34m()\u001b[0m\n\u001b[1;32m      <a href='vscode-notebook-cell:/Users/paolovincenzofreieslebendeblasio/Cell_Lifetime_prediction/API_app/notebooks/get_capacity_fade.ipynb#ch0000003?line=0'>1</a>\u001b[0m \u001b[39m# We load the initial data, then feed it into the model so that it can \u001b[39;00m\n\u001b[1;32m      <a href='vscode-notebook-cell:/Users/paolovincenzofreieslebendeblasio/Cell_Lifetime_prediction/API_app/notebooks/get_capacity_fade.ipynb#ch0000003?line=1'>2</a>\u001b[0m \u001b[39m# Predict the degredation curves for the cells \u001b[39;00m\n\u001b[0;32m----> <a href='vscode-notebook-cell:/Users/paolovincenzofreieslebendeblasio/Cell_Lifetime_prediction/API_app/notebooks/get_capacity_fade.ipynb#ch0000003?line=2'>3</a>\u001b[0m data_dict \u001b[39m=\u001b[39m dl\u001b[39m.\u001b[39mload_data_all_channels(data_path)\n\u001b[1;32m      <a href='vscode-notebook-cell:/Users/paolovincenzofreieslebendeblasio/Cell_Lifetime_prediction/API_app/notebooks/get_capacity_fade.ipynb#ch0000003?line=3'>4</a>\u001b[0m x, y, c, var \u001b[39m=\u001b[39m dl\u001b[39m.\u001b[39mget_capacity_input(\n\u001b[1;32m      <a href='vscode-notebook-cell:/Users/paolovincenzofreieslebendeblasio/Cell_Lifetime_prediction/API_app/notebooks/get_capacity_fade.ipynb#ch0000003?line=4'>5</a>\u001b[0m     data_dict,\n\u001b[1;32m      <a href='vscode-notebook-cell:/Users/paolovincenzofreieslebendeblasio/Cell_Lifetime_prediction/API_app/notebooks/get_capacity_fade.ipynb#ch0000003?line=5'>6</a>\u001b[0m     start_cycle\u001b[39m=\u001b[39mparams[\u001b[39m'\u001b[39m\u001b[39mstart\u001b[39m\u001b[39m'\u001b[39m],\n\u001b[1;32m      <a href='vscode-notebook-cell:/Users/paolovincenzofreieslebendeblasio/Cell_Lifetime_prediction/API_app/notebooks/get_capacity_fade.ipynb#ch0000003?line=6'>7</a>\u001b[0m     stop_cycle\u001b[39m=\u001b[39mparams[\u001b[39m'\u001b[39m\u001b[39msequence_length\u001b[39m\u001b[39m'\u001b[39m]\n\u001b[1;32m      <a href='vscode-notebook-cell:/Users/paolovincenzofreieslebendeblasio/Cell_Lifetime_prediction/API_app/notebooks/get_capacity_fade.ipynb#ch0000003?line=7'>8</a>\u001b[0m )\n\u001b[1;32m      <a href='vscode-notebook-cell:/Users/paolovincenzofreieslebendeblasio/Cell_Lifetime_prediction/API_app/notebooks/get_capacity_fade.ipynb#ch0000003?line=8'>9</a>\u001b[0m \u001b[39m# data_dict = {**bat_dicts[0], **bat_dicts[1], **bat_dicts[2],}\u001b[39;00m\n",
      "\u001b[0;31mNameError\u001b[0m: name 'dl' is not defined"
     ]
    }
   ],
   "source": [
    "# We load the initial data, then feed it into the model so that it can \n",
    "# Predict the degredation curves for the cells \n",
    "data_dict = dl.load_data_all_channels(data_path)\n",
    "results_list = pd.Series(pkl.load(open(fname, \"rb\"))) for fname in (fnames)\n",
    "x, y, c, var = dl.get_capacity_input(\n",
    "    data_dict,\n",
    "    start_cycle=params['start'],\n",
    "    stop_cycle=params['sequence_length']\n",
    ")\n",
    "\n",
    "# data_dict = {**bat_dicts[0], **bat_dicts[1], **bat_dicts[2],}\n",
    "\n",
    "x, y, c, var  = severson_data.get_capacity_input(data_dict, num_offset=0, start_cycle = 10, stop_cycle = seq_length)\n",
    "\n",
    "x_scaled  = severson_data.scale_x(x,y)\n",
    "\n",
    "x_preprocessed = severson_data.remove_outliers(x_scaled,y)\n",
    "x_smoothed = severson_data.smooth_x(x_preprocessed,y, num_points=20)"
   ]
  },
  {
   "cell_type": "code",
   "execution_count": null,
   "metadata": {},
   "outputs": [],
   "source": [
    "import numpy as np \n",
    "a = [1,2,3,4,5,6,7,8,9,90,10,20,1020,3,2,1]\n",
    "np.quantile(cycle_dict[100][IDX][:50], .5, axis = 0)"
   ]
  }
 ],
 "metadata": {
  "kernelspec": {
   "display_name": "Python 3.9.5 64-bit",
   "language": "python",
   "name": "python3"
  },
  "language_info": {
   "codemirror_mode": {
    "name": "ipython",
    "version": 3
   },
   "file_extension": ".py",
   "mimetype": "text/x-python",
   "name": "python",
   "nbconvert_exporter": "python",
   "pygments_lexer": "ipython3",
   "version": "3.9.5"
  },
  "orig_nbformat": 4,
  "vscode": {
   "interpreter": {
    "hash": "aee8b7b246df8f9039afb4144a1f6fd8d2ca17a180786b69acc140d282b71a49"
   }
  }
 },
 "nbformat": 4,
 "nbformat_minor": 2
}
