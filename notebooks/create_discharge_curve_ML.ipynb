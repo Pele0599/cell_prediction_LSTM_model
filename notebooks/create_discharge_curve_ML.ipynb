{
 "cells": [
  {
   "cell_type": "code",
   "execution_count": 1,
   "id": "e674c8be",
   "metadata": {},
   "outputs": [],
   "source": [
    "import os\n",
    "import sys \n",
    "import configparser\n",
    "import pandas as pd \n",
    "import numpy as np\n",
    "import torch\n",
    "import matplotlib.pyplot as plt\n",
    "from tqdm.notebook import tqdm\n",
    "from matplotlib import cycler\n",
    "from os.path import join as oj\n",
    "from torch.utils.data import TensorDataset, DataLoader\n",
    "import pickle as pkl\n",
    "from sklearn.preprocessing import StandardScaler,MinMaxScaler\n",
    "sys.path.insert(0, \"..\")\n",
    "import training.models\n",
    "from config.model_config import model_config\n",
    "import seaborn as sns\n",
    "import pickle as pkl\n",
    "pd.set_option('display.float_format', lambda x: '%.2f' % x)\n",
    "cuda = torch.cuda.is_available()\n",
    "device = torch.device(\"cuda:0\" if cuda else \"cpu\")\n",
    "device = torch.device(\"cpu\")"
   ]
  },
  {
   "cell_type": "markdown",
   "id": "a2262a28",
   "metadata": {},
   "source": [
    "# Loading the dataset"
   ]
  },
  {
   "cell_type": "code",
   "execution_count": 7,
   "id": "f0f4259e",
   "metadata": {},
   "outputs": [],
   "source": [
    "import os \n",
    "import sys \n",
    "src_path = \"/Users/paolovincenzofreieslebendeblasio/battery-life-prediction/src\"\n",
    "sys.path.append(src_path)\n",
    "import data_loader as dl \n",
    "from config_data import data_config as config \n",
    "\n",
    "data_dict = dl.load_data_all_channels(config[\"abs_data_path\"])\n",
    "#Path to the .hd5 file containing cycling data measured with the arbin system \n",
    "\n",
    "x, y, c, var  = dl.get_capacity_input(data_dict, num_offset=0, start_cycle = 10, stop_cycle = 100)\n",
    "\n",
    "x_scaled  = dl.scale_x(x,y) #Scaling the QC, and cycle life \n",
    "\n",
    "x_preprocessed = dl.remove_outliers(x_scaled,y) #Removing outliers\n",
    "x_smoothed = dl.smooth_x(x_preprocessed,y, num_points=20) #Smoothing the inputs and outputs with a moving average filter"
   ]
  },
  {
   "cell_type": "markdown",
   "id": "46c415ec",
   "metadata": {},
   "source": [
    "# Splitting the data into train and test"
   ]
  },
  {
   "cell_type": "code",
   "execution_count": 1,
   "id": "4e7ff878",
   "metadata": {},
   "outputs": [
    {
     "ename": "NameError",
     "evalue": "name 'dl' is not defined",
     "output_type": "error",
     "traceback": [
      "\u001b[0;31m---------------------------------------------------------------------------\u001b[0m",
      "\u001b[0;31mNameError\u001b[0m                                 Traceback (most recent call last)",
      "\u001b[1;32m/Users/paolovincenzofreieslebendeblasio/Cell_Lifetime_prediction/notebooks/create_discharge_curve_ML.ipynb Cell 1'\u001b[0m in \u001b[0;36m<cell line: 2>\u001b[0;34m()\u001b[0m\n\u001b[1;32m      <a href='vscode-notebook-cell:/Users/paolovincenzofreieslebendeblasio/Cell_Lifetime_prediction/notebooks/create_discharge_curve_ML.ipynb#ch0000000?line=0'>1</a>\u001b[0m seq_length \u001b[39m=\u001b[39m \u001b[39m50\u001b[39m\n\u001b[0;32m----> <a href='vscode-notebook-cell:/Users/paolovincenzofreieslebendeblasio/Cell_Lifetime_prediction/notebooks/create_discharge_curve_ML.ipynb#ch0000000?line=1'>2</a>\u001b[0m train_idxs , val_idxs,test_idxs\u001b[39m=\u001b[39m dl\u001b[39m.\u001b[39mget_split(\u001b[39mlen\u001b[39m(x), seed \u001b[39m=\u001b[39m\u001b[39m11\u001b[39m)\n\u001b[1;32m      <a href='vscode-notebook-cell:/Users/paolovincenzofreieslebendeblasio/Cell_Lifetime_prediction/notebooks/create_discharge_curve_ML.ipynb#ch0000000?line=3'>4</a>\u001b[0m qc_variance_scaler \u001b[39m=\u001b[39m StandardScaler()\u001b[39m.\u001b[39mfit(var[train_idxs]) \n\u001b[1;32m      <a href='vscode-notebook-cell:/Users/paolovincenzofreieslebendeblasio/Cell_Lifetime_prediction/notebooks/create_discharge_curve_ML.ipynb#ch0000000?line=4'>5</a>\u001b[0m var \u001b[39m=\u001b[39m qc_variance_scaler\u001b[39m.\u001b[39mtransform(var)\n",
      "\u001b[0;31mNameError\u001b[0m: name 'dl' is not defined"
     ]
    }
   ],
   "source": [
    "seq_length = 50\n",
    "train_idxs , val_idxs,test_idxs= dl.get_split(len(x), seed =11)\n",
    "\n",
    "qc_variance_scaler = StandardScaler().fit(var[train_idxs]) \n",
    "var = qc_variance_scaler.transform(var)\n",
    "\n",
    "augmented_data =np.hstack([c, var]) \n",
    "train_x, train_y , train_s = dl.assemble_dataset(x_preprocessed[train_idxs], y[train_idxs],  augmented_data[train_idxs],seq_len = seq_length)\n",
    "_, smoothed_y , _ = dl.assemble_dataset(x_smoothed[train_idxs], y[train_idxs],  augmented_data[train_idxs],seq_len = seq_length)\n",
    "\n",
    "min_val = .85\n",
    "max_val = 1\n",
    "\n",
    "capacity_output_scaler = MinMaxScaler((-1, 1), clip=False).fit(\n",
    "    np.maximum(np.minimum(smoothed_y[:, 0:1], max_val), min_val)\n",
    ")"
   ]
  },
  {
   "cell_type": "markdown",
   "id": "24907c06",
   "metadata": {},
   "source": [
    "# Loading the trained models"
   ]
  },
  {
   "cell_type": "code",
   "execution_count": 9,
   "id": "90b1e511",
   "metadata": {},
   "outputs": [
    {
     "ename": "NameError",
     "evalue": "name 'train_x' is not defined",
     "output_type": "error",
     "traceback": [
      "\u001b[0;31m---------------------------------------------------------------------------\u001b[0m",
      "\u001b[0;31mNameError\u001b[0m                                 Traceback (most recent call last)",
      "\u001b[0;32m/var/folders/90/1xp7rskx2kj1nbhtqfvty1nr0000gn/T/ipykernel_34936/43670792.py\u001b[0m in \u001b[0;36m<module>\u001b[0;34m\u001b[0m\n\u001b[1;32m      5\u001b[0m \u001b[0;34m\u001b[0m\u001b[0m\n\u001b[1;32m      6\u001b[0m \u001b[0;34m\u001b[0m\u001b[0m\n\u001b[0;32m----> 7\u001b[0;31m \u001b[0minput_dim\u001b[0m \u001b[0;34m=\u001b[0m \u001b[0mtrain_x\u001b[0m\u001b[0;34m.\u001b[0m\u001b[0mshape\u001b[0m\u001b[0;34m[\u001b[0m\u001b[0;36m2\u001b[0m\u001b[0;34m]\u001b[0m   \u001b[0;31m# Number of input features (e.g. discharge capacity)\u001b[0m\u001b[0;34m\u001b[0m\u001b[0;34m\u001b[0m\u001b[0m\n\u001b[0m\u001b[1;32m      8\u001b[0m \u001b[0mnum_augment\u001b[0m \u001b[0;34m=\u001b[0m \u001b[0mtrain_s\u001b[0m\u001b[0;34m.\u001b[0m\u001b[0mshape\u001b[0m\u001b[0;34m[\u001b[0m\u001b[0;36m1\u001b[0m\u001b[0;34m]\u001b[0m  \u001b[0;31m# three  values of charging schedule (avg and last) plus the variance\u001b[0m\u001b[0;34m\u001b[0m\u001b[0;34m\u001b[0m\u001b[0m\n\u001b[1;32m      9\u001b[0m \u001b[0;34m\u001b[0m\u001b[0m\n",
      "\u001b[0;31mNameError\u001b[0m: name 'train_x' is not defined"
     ]
    }
   ],
   "source": [
    "results_path = model_config[\"save_model_path\"] #Path to where we save the models \n",
    "fnames = sorted([oj(results_path, fname) for fname in os.listdir(results_path) if \".pt\" in fname]) \n",
    "results = sorted([oj(results_path, fname) for fname in os.listdir(results_path) if \".pkl\" in fname])[0] \n",
    "model = fnames[0] #We just pick a model from the list of models to illustrate\n",
    "\n",
    "\n",
    "input_dim = train_x.shape[2]   # Number of input features (e.g. discharge capacity)\n",
    "num_augment = train_s.shape[1]  # three  values of charging schedule (avg and last) plus the variance\n",
    "\n",
    "\n",
    "my_models = models.Uncertain_LSTM(train_x.shape[2], \n",
    "                            train_s.shape[1] , \n",
    "                            num_hidden =  results.hidden_size, \n",
    "                            num_hidden_lstm =  results.hidden_size_lstm, \n",
    "                            seq_len= results.sequence_length[best_model_idx], \n",
    "                            n_layers =2, \n",
    "                            dropout =.0).to(device)\n",
    "for i, file_name in enumerate(results.file_name):\n",
    "    my_models[i].load_state_dict(torch.load(oj(model_path,file_name+\".pt\"),map_location=torch.device('cpu')))\n",
    "    my_models[i] = my_models[i].to(device)"
   ]
  },
  {
   "cell_type": "markdown",
   "id": "f367e500",
   "metadata": {},
   "source": [
    "# Predicting the charge curve"
   ]
  },
  {
   "cell_type": "code",
   "execution_count": 11,
   "id": "22f13ae6",
   "metadata": {},
   "outputs": [],
   "source": [
    "cycle_dict = {}\n",
    "num_samples = 10\n",
    "my_quantile = .1\n",
    "num_models = 1\n",
    "max_steps = 3500\n",
    "\n",
    "used_idxs =  [0,1,2]"
   ]
  },
  {
   "cell_type": "code",
   "execution_count": null,
   "id": "2fcd9f9f",
   "metadata": {},
   "outputs": [],
   "source": []
  }
 ],
 "metadata": {
  "kernelspec": {
   "display_name": "Python 3.9.5 64-bit",
   "language": "python",
   "name": "python3"
  },
  "language_info": {
   "codemirror_mode": {
    "name": "ipython",
    "version": 3
   },
   "file_extension": ".py",
   "mimetype": "text/x-python",
   "name": "python",
   "nbconvert_exporter": "python",
   "pygments_lexer": "ipython3",
   "version": "3.9.5"
  },
  "vscode": {
   "interpreter": {
    "hash": "aee8b7b246df8f9039afb4144a1f6fd8d2ca17a180786b69acc140d282b71a49"
   }
  }
 },
 "nbformat": 4,
 "nbformat_minor": 5
}
