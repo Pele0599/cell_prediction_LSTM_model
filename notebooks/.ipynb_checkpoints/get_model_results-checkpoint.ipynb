{
 "cells": [
  {
   "cell_type": "code",
   "execution_count": 8,
   "id": "352f794b",
   "metadata": {},
   "outputs": [],
   "source": [
    "import os\n",
    "import sys \n",
    "import configparser\n",
    "import pandas as pd \n",
    "import numpy as np\n",
    "import torch\n",
    "import matplotlib.pyplot as plt\n",
    "from tqdm.notebook import tqdm\n",
    "from matplotlib import cycler\n",
    "from os.path import join as oj\n",
    "from torch.utils.data import TensorDataset, DataLoader\n",
    "import pickle as pkl\n",
    "from sklearn.preprocessing import StandardScaler,MinMaxScaler\n",
    "sys.path.insert(0, \"..\")\n",
    "import training.models\n",
    "from config.model_config import model_config\n",
    "import seaborn as sns\n",
    "import pickle as pkl\n",
    "pd.set_option('display.float_format', lambda x: '%.2f' % x)\n",
    "cuda = torch.cuda.is_available()\n",
    "device = torch.device(\"cuda:0\" if cuda else \"cpu\")\n",
    "device = torch.device(\"cpu\")"
   ]
  },
  {
   "cell_type": "code",
   "execution_count": 9,
   "id": "d751e733",
   "metadata": {},
   "outputs": [],
   "source": [
    "results_path = model_config[\"save_model_path\"]\n",
    "\n",
    "#Load the results from all the different models in the save_model_path \n",
    "fnames = sorted([oj(results_path, fname) for fname in os.listdir(results_path) if \"pkl\" in fname]) \n",
    "results_list = [pd.Series(pkl.load(open(fname, \"rb\"))) for fname in (fnames)]"
   ]
  },
  {
   "cell_type": "code",
   "execution_count": 10,
   "id": "2a29e3ab",
   "metadata": {},
   "outputs": [
    {
     "name": "stdout",
     "output_type": "stream",
     "text": [
      "0    \n",
      "Name: experiment_name, dtype: object\n"
     ]
    }
   ],
   "source": [
    "results_all = pd.concat(results_list, axis=1).T.infer_objects()\n",
    "results_all.experiment_name.unique()\n",
    "print(results_all.experiment_name)"
   ]
  },
  {
   "cell_type": "code",
   "execution_count": 20,
   "id": "094c9ede",
   "metadata": {},
   "outputs": [
    {
     "name": "stdout",
     "output_type": "stream",
     "text": [
      "dict_keys(['start', 'batch_size', 'num_epochs', 'experiment_name', 'dropout', 'sequence_length', 'seed', 'hidden_size_lstm', 'hidden_size', 'use_augment', 'use_cycle_counter', 'train_percentage', 'no_covariates', 'train_losses', 'val_losses', 'rmse_state_val', 'rmse_state_train', 'rmse_state_test', 'file_name', 'best_val_loss'])\n"
     ]
    }
   ],
   "source": [
    "results = results_all\n",
    "results = results.reset_index()\n",
    "\n",
    "#Dictionary containing the results of all the different models such as RMSE_test, RMSE_train, etc.. \n",
    "model_results = {}\n",
    "for model_i_result in results_list:\n",
    "    model_results[model_i_result[\"file_name\"]] = model_i_result.to_dict()\n",
    "    \n",
    "\n",
    "print(model_results[\"3440032208\"].keys())"
   ]
  },
  {
   "cell_type": "markdown",
   "id": "85a3250d",
   "metadata": {},
   "source": [
    "# Getting models parameters"
   ]
  },
  {
   "cell_type": "code",
   "execution_count": 29,
   "id": "a1288c97",
   "metadata": {},
   "outputs": [
    {
     "name": "stdout",
     "output_type": "stream",
     "text": [
      "Parameters of model no.:  3440032208\n",
      "batch size:  128\n",
      "num_epochs:  3000\n",
      "hidden_size_lstm:  32\n",
      "hidden_size:  32\n",
      "no_covariates:  None\n",
      "------------\n"
     ]
    }
   ],
   "source": [
    "#Loop over all the trained models \n",
    "for model_name in model_results.keys():\n",
    "    batch_size = model_results[model_name]['batch_size']\n",
    "    num_epochs = model_results[model_name]['num_epochs']\n",
    "    hidden_size_lstm = model_results[model_name]['hidden_size_lstm']\n",
    "    hidden_size = model_results[model_name]['hidden_size']\n",
    "    no_covariates = model_results[model_name]['no_covariates']\n",
    "    print(\"Parameters of model no.: \", model_name)\n",
    "    print('batch size: ', batch_size)\n",
    "    print('num_epochs: ', num_epochs)\n",
    "    print('hidden_size_lstm: ', hidden_size_lstm)\n",
    "    print('hidden_size: ', hidden_size,)\n",
    "    print('no_covariates: ', no_covariates)\n",
    "    print('------------')\n",
    "    \n",
    "    "
   ]
  },
  {
   "cell_type": "markdown",
   "id": "2499c178",
   "metadata": {},
   "source": [
    "# Model results"
   ]
  },
  {
   "cell_type": "code",
   "execution_count": 32,
   "id": "950bb56e",
   "metadata": {},
   "outputs": [
    {
     "name": "stdout",
     "output_type": "stream",
     "text": [
      "Performance of model no.:  3440032208\n",
      "rmse_state_test:  48.0\n",
      "rmse_state_train:  60.0\n",
      "rmse_state_val:  71.0\n",
      "best_val_loss:  0.38326772054036456\n",
      "------------\n"
     ]
    }
   ],
   "source": [
    "for model_name in model_results.keys():\n",
    "    rmse_state_test = model_results[model_name]['rmse_state_test']\n",
    "    rmse_state_train = model_results[model_name]['rmse_state_train']\n",
    "    rmse_state_val = model_results[model_name]['rmse_state_val']\n",
    "    best_val_loss = model_results[model_name]['best_val_loss']\n",
    "    print(\"Performance of model no.: \", model_name)\n",
    "    print('rmse_state_test: ', rmse_state_test)\n",
    "    print('rmse_state_train: ', rmse_state_train)\n",
    "    print('rmse_state_val: ', rmse_state_val)\n",
    "    print('best_val_loss: ', best_val_loss)\n",
    "    print('------------')"
   ]
  },
  {
   "cell_type": "code",
   "execution_count": null,
   "id": "c111a580",
   "metadata": {},
   "outputs": [],
   "source": []
  }
 ],
 "metadata": {
  "kernelspec": {
   "display_name": "Python 3 (ipykernel)",
   "language": "python",
   "name": "python3"
  },
  "language_info": {
   "codemirror_mode": {
    "name": "ipython",
    "version": 3
   },
   "file_extension": ".py",
   "mimetype": "text/x-python",
   "name": "python",
   "nbconvert_exporter": "python",
   "pygments_lexer": "ipython3",
   "version": "3.9.7"
  }
 },
 "nbformat": 4,
 "nbformat_minor": 5
}
