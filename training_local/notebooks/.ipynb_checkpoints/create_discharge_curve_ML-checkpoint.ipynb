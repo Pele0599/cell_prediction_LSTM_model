{
 "cells": [
  {
   "cell_type": "code",
   "execution_count": 1,
   "id": "40ce0804",
   "metadata": {},
   "outputs": [],
   "source": [
    "import os\n",
    "import sys \n",
    "import configparser\n",
    "import pandas as pd \n",
    "import numpy as np\n",
    "import torch\n",
    "import matplotlib.pyplot as plt\n",
    "from tqdm.notebook import tqdm\n",
    "from matplotlib import cycler\n",
    "from os.path import join as oj\n",
    "from torch.utils.data import TensorDataset, DataLoader\n",
    "import pickle as pkl\n",
    "from sklearn.preprocessing import StandardScaler,MinMaxScaler\n",
    "sys.path.insert(0, \"..\")\n",
    "import training.models\n",
    "from config.model_config import model_config\n",
    "import seaborn as sns\n",
    "import pickle as pkl\n",
    "pd.set_option('display.float_format', lambda x: '%.2f' % x)\n",
    "cuda = torch.cuda.is_available()\n",
    "device = torch.device(\"cuda:0\" if cuda else \"cpu\")\n",
    "device = torch.device(\"cpu\")"
   ]
  },
  {
   "cell_type": "markdown",
   "id": "ff48549b",
   "metadata": {},
   "source": [
    "# Loading the trained models"
   ]
  },
  {
   "cell_type": "code",
   "execution_count": 2,
   "id": "3635ae9c",
   "metadata": {},
   "outputs": [],
   "source": [
    "results_path = model_config[\"save_model_path\"] #Path to where we save the models \n",
    "fnames = sorted([oj(results_path, fname) for fname in os.listdir(results_path) if \".pt\" in fname]) \n",
    "model = fnames[0] #We just pick a model from the list of models to illustrate"
   ]
  },
  {
   "cell_type": "markdown",
   "id": "a6d18cb8",
   "metadata": {},
   "source": [
    "# Loading the dataset"
   ]
  },
  {
   "cell_type": "code",
   "execution_count": 3,
   "id": "3678a260",
   "metadata": {},
   "outputs": [],
   "source": [
    "import os \n",
    "import sys \n",
    "src_path = \"/Users/paolovincenzofreieslebendeblasio/battery-life-prediction/src\"\n",
    "sys.path.append(src_path)\n",
    "import data_loader as dl \n",
    "from config_data import data_config as config \n",
    "\n",
    "data_dict = dl.load_data_all_channels(config[\"abs_data_path\"]) #Path to the .hd5 file from the Arbin()\n",
    "\n",
    "x, y, c, var  = dl.get_capacity_input(data_dict, num_offset=0, start_cycle = 10, stop_cycle = 100)\n",
    "\n",
    "x_scaled  = dl.scale_x(x,y) #Scaling the QC, and cycle life \n",
    "\n",
    "x_preprocessed = dl.remove_outliers(x_scaled,y) #Removing outliers\n",
    "x_smoothed = dl.smooth_x(x_preprocessed,y, num_points=20) #Smoothing the inputs and outputs with a moving average filter"
   ]
  },
  {
   "cell_type": "code",
   "execution_count": null,
   "id": "b74f7cce",
   "metadata": {},
   "outputs": [],
   "source": []
  },
  {
   "cell_type": "code",
   "execution_count": null,
   "id": "52421d2d",
   "metadata": {},
   "outputs": [],
   "source": []
  }
 ],
 "metadata": {
  "kernelspec": {
   "display_name": "Python 3 (ipykernel)",
   "language": "python",
   "name": "python3"
  },
  "language_info": {
   "codemirror_mode": {
    "name": "ipython",
    "version": 3
   },
   "file_extension": ".py",
   "mimetype": "text/x-python",
   "name": "python",
   "nbconvert_exporter": "python",
   "pygments_lexer": "ipython3",
   "version": "3.9.7"
  }
 },
 "nbformat": 4,
 "nbformat_minor": 5
}
